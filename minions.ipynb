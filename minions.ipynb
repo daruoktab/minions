{
 "cells": [
  {
   "cell_type": "code",
   "execution_count": 1,
   "metadata": {},
   "outputs": [
    {
     "name": "stderr",
     "output_type": "stream",
     "text": [
      "c:\\Users\\daru\\anaconda3\\envs\\ai\\Lib\\site-packages\\pydantic\\plugin\\_loader.py:50: UserWarning: ImportError while loading the `logfire-plugin` Pydantic plugin, this plugin will not be installed.\n",
      "\n",
      "ImportError(\"cannot import name '_create_exp_backoff_generator' from 'opentelemetry.exporter.otlp.proto.common._internal' (c:\\\\Users\\\\daru\\\\anaconda3\\\\envs\\\\ai\\\\Lib\\\\site-packages\\\\opentelemetry\\\\exporter\\\\otlp\\\\proto\\\\common\\\\_internal\\\\__init__.py)\")\n",
      "  warnings.warn(\n"
     ]
    },
    {
     "ename": "AttributeError",
     "evalue": "'MessageFactory' object has no attribute 'GetPrototype'",
     "output_type": "error",
     "traceback": [
      "\u001b[31m---------------------------------------------------------------------------\u001b[39m",
      "\u001b[31mAttributeError\u001b[39m                            Traceback (most recent call last)",
      "\u001b[31mAttributeError\u001b[39m: 'MessageFactory' object has no attribute 'GetPrototype'"
     ]
    },
    {
     "ename": "AttributeError",
     "evalue": "'MessageFactory' object has no attribute 'GetPrototype'",
     "output_type": "error",
     "traceback": [
      "\u001b[31m---------------------------------------------------------------------------\u001b[39m",
      "\u001b[31mAttributeError\u001b[39m                            Traceback (most recent call last)",
      "\u001b[31mAttributeError\u001b[39m: 'MessageFactory' object has no attribute 'GetPrototype'"
     ]
    },
    {
     "ename": "AttributeError",
     "evalue": "'MessageFactory' object has no attribute 'GetPrototype'",
     "output_type": "error",
     "traceback": [
      "\u001b[31m---------------------------------------------------------------------------\u001b[39m",
      "\u001b[31mAttributeError\u001b[39m                            Traceback (most recent call last)",
      "\u001b[31mAttributeError\u001b[39m: 'MessageFactory' object has no attribute 'GetPrototype'"
     ]
    },
    {
     "ename": "AttributeError",
     "evalue": "'MessageFactory' object has no attribute 'GetPrototype'",
     "output_type": "error",
     "traceback": [
      "\u001b[31m---------------------------------------------------------------------------\u001b[39m",
      "\u001b[31mAttributeError\u001b[39m                            Traceback (most recent call last)",
      "\u001b[31mAttributeError\u001b[39m: 'MessageFactory' object has no attribute 'GetPrototype'"
     ]
    },
    {
     "ename": "AttributeError",
     "evalue": "'MessageFactory' object has no attribute 'GetPrototype'",
     "output_type": "error",
     "traceback": [
      "\u001b[31m---------------------------------------------------------------------------\u001b[39m",
      "\u001b[31mAttributeError\u001b[39m                            Traceback (most recent call last)",
      "\u001b[31mAttributeError\u001b[39m: 'MessageFactory' object has no attribute 'GetPrototype'"
     ]
    },
    {
     "name": "stdout",
     "output_type": "stream",
     "text": [
      "Warning: cartesia_mlx is not installed. If you want to use cartesia_mlx, please follow the instructions in the README to install it.\n",
      "Warning: huggingface inference client is not installed. If you want to use huggingface inference client, please install it with `pip install huggingface-hub`\n",
      "Warning: NVIDIA attestation SDK not available: argument of type 'NoneType' is not iterable. GPU attestation will not work.\n"
     ]
    },
    {
     "name": "stderr",
     "output_type": "stream",
     "text": [
      "c:\\Users\\daru\\anaconda3\\envs\\ai\\Lib\\site-packages\\azure\\__init__.py:1: UserWarning: pkg_resources is deprecated as an API. See https://setuptools.pypa.io/en/latest/pkg_resources.html. The pkg_resources package is slated for removal as early as 2025-11-30. Refrain from using this package or pin to Setuptools<81.\n",
      "  __import__('pkg_resources').declare_namespace(__name__)\n"
     ]
    },
    {
     "name": "stdout",
     "output_type": "stream",
     "text": [
      "WARNING:tensorflow:From c:\\Users\\daru\\anaconda3\\envs\\ai\\Lib\\site-packages\\tf_keras\\src\\losses.py:2976: The name tf.losses.sparse_softmax_cross_entropy is deprecated. Please use tf.compat.v1.losses.sparse_softmax_cross_entropy instead.\n",
      "\n"
     ]
    }
   ],
   "source": [
    "# Misc imports\n",
    "import os\n",
    "import json\n",
    "import pandas as pd\n",
    "\n",
    "# Import Minions + Minions\n",
    "from minions.minions import Minions\n",
    "from minions.minion import Minion\n",
    "\n",
    "# Import Minion Clients\n",
    "from minions.clients.ollama import OllamaClient\n",
    "from minions.clients.tokasaurus import TokasaurusClient\n",
    "from minions.clients.openai import OpenAIClient\n",
    "from minions.clients.anthropic import AnthropicClient\n",
    "from minions.clients.together import TogetherClient\n",
    "\n",
    "# Import Pydantic\n",
    "from pydantic import BaseModel"
   ]
  },
  {
   "cell_type": "markdown",
   "metadata": {},
   "source": [
    "### Configure Clients\n"
   ]
  },
  {
   "cell_type": "markdown",
   "metadata": {},
   "source": [
    "1. Specify structured output schema for the OllamaClient. Run this block as is! Do _NOT_ make any modifications\n"
   ]
  },
  {
   "cell_type": "code",
   "execution_count": 2,
   "metadata": {},
   "outputs": [],
   "source": [
    "class StructuredLocalOutput(BaseModel):\n",
    "    explanation: str\n",
    "    citation: str | None\n",
    "    answer: str | None"
   ]
  },
  {
   "cell_type": "markdown",
   "metadata": {},
   "source": [
    "2. Instantiate Clients: Here we instantiate our local client to be ollama and remote client to be OpenAI\n"
   ]
  },
  {
   "cell_type": "code",
   "execution_count": 3,
   "metadata": {},
   "outputs": [],
   "source": [
    "remote_client = OpenAIClient(model_name=\"gpt-4o\", temperature=0.0)\n",
    "\n",
    "# Option 1: Ollama\n",
    "local_client = OllamaClient(\n",
    "    model_name=\"llama3.2:3b\", \n",
    "    temperature=0.0,\n",
    "    num_ctx=16000, \n",
    "    structured_output_schema=StructuredLocalOutput\n",
    ")\n",
    "\n",
    "# option 2\n",
    "# local_client = TokasaurusClient(\n",
    "#     model_name=\"meta-llama/Llama-3.2-1B-Instruct\",\n",
    "#     temperature=0.0,\n",
    "#     # Structured outputs are not yet supported with tokasaurus\n",
    "#     # structured_output_schema=StructuredLocalOutput\n",
    "# )\n",
    "\n"
   ]
  },
  {
   "cell_type": "markdown",
   "metadata": {},
   "source": [
    "### Set-up Communication Protocol\n"
   ]
  },
  {
   "cell_type": "code",
   "execution_count": 4,
   "metadata": {},
   "outputs": [],
   "source": [
    "# Option 1: Minions\n",
    "# protocol = Minions(local_client=local_client, remote_client=remote_client)\n",
    "\n",
    "# Option 2: Minion\n",
    "protocol = Minion(local_client=local_client, remote_client=remote_client)\n",
    "    "
   ]
  },
  {
   "cell_type": "markdown",
   "metadata": {},
   "source": [
    "### Configure Minion/Minions Task\n",
    "\n",
    "- context (List[str]): context that the minions need to reason over\n",
    "- doc_metadata (str): every task is parameterized by doc_metadata which describes the \"type\" of information contained in the context\n",
    "- task (str): description of the query to be completed over the context\n"
   ]
  },
  {
   "cell_type": "markdown",
   "metadata": {},
   "source": [
    "##### Specify Input Context\n"
   ]
  },
  {
   "cell_type": "code",
   "execution_count": 5,
   "metadata": {},
   "outputs": [],
   "source": [
    "context = \"\"\"\\\n",
    "Patient Name: John A. Doe\n",
    "Medical Record Number: 001234567\n",
    "DOB: 1967-08-22\n",
    "Gender: Male\n",
    "Admission Date: 2025-01-15\n",
    "Discharge Date: 2025-01-20\n",
    "\n",
    "Chief Complaint:\n",
    "The patient presented with chest discomfort, shortness of breath, and fatigue. Symptoms began gradually 48 hours before admission and intensified over time.\n",
    "\n",
    "History of Present Illness:\n",
    "John A. Doe, a 57-year-old male with a history of type 2 diabetes mellitus and hypertension, was admitted following several episodes of atypical chest pain. He experienced intermittent chest tightness and dyspnea on exertion. The pain did not radiate, and there was no associated nausea.\n",
    "\n",
    "Past Medical History:\n",
    "- Type 2 Diabetes Mellitus (diagnosed 2010) – managed with metformin.\n",
    "- Hypertension (diagnosed 2012) – treated with lisinopril.\n",
    "- Hyperlipidemia – treated with atorvastatin.\n",
    "- Former smoker (quit 2015).\n",
    "- No known drug allergies.\n",
    "\n",
    "Medications on Admission:\n",
    "- Metformin 1000 mg twice daily.\n",
    "- Lisinopril 20 mg daily.\n",
    "- Atorvastatin 40 mg nightly.\n",
    "- Aspirin 81 mg daily.\n",
    "\n",
    "Physical Examination:\n",
    "General: The patient is alert and oriented, in moderate distress.\n",
    "Cardiovascular: Blood pressure 150/95 mmHg; heart rate 88 bpm; regular rhythm.\n",
    "Respiratory: Lungs are clear to auscultation bilaterally; respiratory rate 16 bpm.\n",
    "Neurological: No focal deficits observed.\n",
    "\n",
    "Laboratory and Diagnostic Findings (Admission):\n",
    "- Complete Blood Count: WBC 7.2 x10^9/L, Hemoglobin 13.5 g/dL.\n",
    "- Basic Metabolic Panel: Serum creatinine 1.0 mg/dL; electrolytes normal.\n",
    "- Fasting Blood Glucose: 180 mg/dL.\n",
    "- Hemoglobin A1C: 8.5%.\n",
    "- Lipid Profile: Total Cholesterol 220 mg/dL, LDL 140 mg/dL, HDL 35 mg/dL.\n",
    "- ECG: Non-specific ST-T changes.\n",
    "- Chest X-ray: No acute findings.\n",
    "\n",
    "Progress Notes:\n",
    "Day 2: Initiated subcutaneous insulin to complement oral hypoglycemics. Blood pressure remained elevated at 148/92 mmHg.\n",
    "Day 3: Follow-up labs showed a minor improvement in glycemic levels and stable kidney function.\n",
    "Day 5: Vital signs improved with a blood pressure of 140/85 mmHg and heart rate of 80 bpm. A repeat lab indicated that the fasting blood glucose had decreased significantly compared to admission.\n",
    "Day 6: Endocrinology recommended maintaining current treatment with a possible gradual reduction in insulin if improvements continue.\n",
    "Day 7: Patient stabilized and was discharged with clear instructions for follow-up with both primary care and endocrinology.\n",
    "\n",
    "Discharge Summary:\n",
    "John A. Doe was discharged on Day 7 after noticeable improvements in glycemic control and blood pressure. The patient is to continue current medications with a scheduled outpatient review.\n",
    "Medications at Discharge:\n",
    "- Metformin 1000 mg BID.\n",
    "- Lisinopril 20 mg daily.\n",
    "- Atorvastatin 40 mg nightly.\n",
    "- Adjusted insulin regimen based on recent glycemic trends.\n",
    "\n",
    "Additional Information:\n",
    "- Admission weight: 95 kg (BMI: 31.2).\n",
    "- Dietary consult completed; patient advised on a diabetic diet.\n",
    "- Patient educated on adherence and regular blood glucose monitoring.\n",
    "\n",
    "Summary:\n",
    "This electronic health record details John A. Doe's hospital admission, clinical findings, laboratory values, treatments, and progress over a 7-day period. Key values include a fasting blood glucose of 180 mg/dL on admission and 150 mg/dL on Day 5, indicating a notable improvement in glycemic control.\n",
    "\"\"\""
   ]
  },
  {
   "cell_type": "markdown",
   "metadata": {},
   "source": [
    "##### Specify Metadata and Task Description\n"
   ]
  },
  {
   "cell_type": "code",
   "execution_count": 6,
   "metadata": {},
   "outputs": [],
   "source": [
    "doc_metadata = \"Patient Visit Notes\"\n",
    "\n",
    "# Define the task without explicitly providing the key values.\n",
    "task = (\n",
    "    \"Using the electronic health records provided, calculate the percentage decrease in the patient's fasting \"\n",
    "    \"blood glucose level from admission to Day 5. Extract the necessary values from the record, show your calculations, \"\n",
    "    \"and provide the final percentage decrease.\"\n",
    ")\n",
    "\n",
    "# For testing purposes, we suggest that the correct answer is:\n",
    "suggested_final_answer = (\n",
    "    \"16.67% decrease in fasting blood glucose from admission to Day 5.\"\n",
    ")"
   ]
  },
  {
   "cell_type": "markdown",
   "metadata": {},
   "source": [
    "### Run the protocol\n"
   ]
  },
  {
   "cell_type": "code",
   "execution_count": 7,
   "metadata": {},
   "outputs": [
    {
     "name": "stdout",
     "output_type": "stream",
     "text": [
      "\n",
      "========== MINION TASK STARTED ==========\n",
      "Task: Using the electronic health records provided, calculate the percentage decrease in the patient's fasting blood glucose level from admission to Day 5. Extract the necessary values from the record, show your calculations, and provide the final percentage decrease.\n",
      "Max rounds: 5\n",
      "Privacy enabled: False\n",
      "Images provided: False\n",
      "Context length: 3286 characters\n",
      "Privacy is enabled:  False\n",
      "💬 SUPERVISOR MESSAGE: Please provide the fasting blood glucose level of the patient at the time of admission from the electronic health records.\n",
      " 🔨 WORKER RESPONSE: {\n",
      "\n",
      "  \"explanation\": \"The patient's fasting blood glucose level on admission was 180 mg/dL.\",\n",
      "\n",
      "  \"citation\": \"Fasting Blood Glucose: 180 mg/dL (Admission)\",\n",
      "\n",
      "  \"answer\": \"180\" }\n",
      "🔎 SUPERVISOR RESPONSE: ```json\n",
      "{\n",
      "    \"reasoning\": \"1. What information we have gathered:\\n   - We have the fasting blood glucose level at admission, which is 180 mg/dL.\\n\\n2. Whether it is sufficient to answer the question:\\n   - No, it is not sufficient. We need the fasting blood glucose level on Day 5 to calculate the percentage decrease.\\n\\n3. If not sufficient, what specific information is missing:\\n   - We need the fasting blood glucose level on Day 5.\\n\\n4. If sufficient, how we would calculate or derive the answer:\\n   - Once we have the Day 5 glucose level, we can use the formula for percentage decrease: \\n     \\n     Percentage Decrease = ((Initial Value - Final Value) / Initial Value) * 100\\n     \\n   - Substitute the admission glucose level as the Initial Value and the Day 5 glucose level as the Final Value to find the percentage decrease.\",\n",
      "    \"message\": \"Please provide the fasting blood glucose level of the patient on Day 5 from the electronic health records.\"\n",
      "}\n",
      "```\n",
      " 🔨 WORKER RESPONSE: {\n",
      "\n",
      "  \"explanation\": \"The patient's fasting blood glucose level on Day 5 was significantly improved compared to admission, with a value of 150 mg/dL.\",\n",
      "\n",
      "  \"citation\": \"Fasting Blood Glucose: 150 mg/dL (Day 5)\",\n",
      "\n",
      "  \"answer\": \"150\" }\n",
      "🔎 SUPERVISOR RESPONSE: ```json\n",
      "{\n",
      "    \"reasoning\": \"1. What information we have gathered:\\n   - We have the fasting blood glucose level at admission, which is 180 mg/dL.\\n   - We have the fasting blood glucose level on Day 5, which is 150 mg/dL.\\n\\n2. Whether it is sufficient to answer the question:\\n   - Yes, we now have sufficient information to calculate the percentage decrease in fasting blood glucose levels from admission to Day 5.\\n\\n3. If not sufficient, what specific information is missing:\\n   - Not applicable, as we have all the necessary information.\\n\\n4. If sufficient, how we would calculate or derive the answer:\\n   - We can use the formula for percentage decrease:\\n     \\n     Percentage Decrease = ((Initial Value - Final Value) / Initial Value) * 100\\n     \\n   - Substitute the values: Initial Value = 180 mg/dL, Final Value = 150 mg/dL.\\n   - Calculate: Percentage Decrease = ((180 - 150) / 180) * 100 = (30 / 180) * 100 = 16.67%\\n\\nTherefore, the percentage decrease in the patient's fasting blood glucose level from admission to Day 5 is 16.67%.\",\n",
      "    \"decision\": \"provide_final_answer\",\n",
      "    \"answer\": \"The percentage decrease in the patient's fasting blood glucose level from admission to Day 5 is 16.67%.\"\n",
      "}\n",
      "```\n",
      "\n",
      "=== SAVING LOG TO minion_logs\\20250724_190618_Using_the_elect.json ===\n",
      "\n",
      "=== MINION TASK COMPLETED ===\n"
     ]
    }
   ],
   "source": [
    "output = protocol(\n",
    "        task=task,\n",
    "        doc_metadata=doc_metadata,\n",
    "        context=[context],\n",
    "        max_rounds=5,  # you can adjust rounds as needed for testing\n",
    "    )"
   ]
  },
  {
   "cell_type": "code",
   "execution_count": 8,
   "metadata": {},
   "outputs": [
    {
     "name": "stdout",
     "output_type": "stream",
     "text": [
      "The percentage decrease in the patient's fasting blood glucose level from admission to Day 5 is 16.67%. This was calculated using the formula for percentage decrease: ((Initial Value - Final Value) / Initial Value) * 100, where the Initial Value is 180 mg/dL (admission) and the Final Value is 150 mg/dL (Day 5).\n"
     ]
    }
   ],
   "source": [
    "print(output['final_answer'])"
   ]
  }
 ],
 "metadata": {
  "kernelspec": {
   "display_name": "ai",
   "language": "python",
   "name": "python3"
  },
  "language_info": {
   "codemirror_mode": {
    "name": "ipython",
    "version": 3
   },
   "file_extension": ".py",
   "mimetype": "text/x-python",
   "name": "python",
   "nbconvert_exporter": "python",
   "pygments_lexer": "ipython3",
   "version": "3.12.9"
  }
 },
 "nbformat": 4,
 "nbformat_minor": 2
}
